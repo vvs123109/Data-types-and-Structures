{
  "nbformat": 4,
  "nbformat_minor": 0,
  "metadata": {
    "colab": {
      "provenance": []
    },
    "kernelspec": {
      "name": "python3",
      "display_name": "Python 3"
    },
    "language_info": {
      "name": "python"
    }
  },
  "cells": [
    {
      "cell_type": "markdown",
      "source": [
        "# Data Types and Structures Assignment Questions\n"
      ],
      "metadata": {
        "id": "vf8yDovRIyUU"
      }
    },
    {
      "cell_type": "markdown",
      "source": [
        "## Data Types and Structures Questions"
      ],
      "metadata": {
        "id": "Trovui7pKX2v"
      }
    },
    {
      "cell_type": "markdown",
      "source": [
        "1. **What are data structures, and why are they important?**  \n",
        "   Data structures are ways to store and organize data efficiently. They help in managing data for fast access and modification.  \n",
        "\n",
        "2. **Explain the difference between mutable and immutable data types with examples.**  \n",
        "   Mutable data types can be changed after creation (e.g., lists). Immutable data types cannot be changed (e.g., tuples).  \n",
        "\n",
        "3. **What are the main differences between lists and tuples in Python?**  \n",
        "   Lists are mutable and can be modified, while tuples are immutable and cannot be changed after creation.  \n",
        "\n",
        "4. **Describe how dictionaries store data.**  \n",
        "   Dictionaries store data as key-value pairs, where each key maps to a specific value for fast lookup.  \n",
        "\n",
        "5. **Why might you use a set instead of a list in Python?**  \n",
        "   Sets do not allow duplicate values and provide faster lookups compared to lists.  \n",
        "\n",
        "6. **What is a string in Python, and how is it different from a list?**  \n",
        "   A string is a sequence of characters, but unlike lists, it is immutable and cannot be changed.  \n",
        "\n",
        "7. **How do tuples ensure data integrity in Python?**  \n",
        "   Tuples ensure data integrity because they are immutable and prevent accidental modification.  \n",
        "\n",
        "8. **What is a hash table, and how does it relate to dictionaries in Python?**  \n",
        "   A hash table is a data structure that stores key-value pairs using a hash function, similar to Python dictionaries.  \n",
        "\n",
        "9. **Can lists contain different data types in Python?**  \n",
        "   Yes, lists can store different data types like integers, strings, and even other lists.  \n",
        "\n",
        "10. **Explain why strings are immutable in Python.**  \n",
        "   Strings are immutable because their memory allocation remains fixed, preventing modifications.  \n",
        "\n",
        "11. **What advantages do dictionaries offer over lists for certain tasks?**  \n",
        "   Dictionaries allow fast lookups using keys, whereas lists require searching through elements.  \n",
        "\n",
        "12. **Describe a scenario where using a tuple would be preferable over a list.**  \n",
        "   Tuples are preferable when data should not change, such as storing constant configuration values.  \n",
        "\n",
        "13. **How do sets handle duplicate values in Python?**  \n",
        "   Sets automatically remove duplicate values and only store unique elements.  \n",
        "\n",
        "14. **How does the “in” keyword work differently for lists and dictionaries?**  \n",
        "   The \"in\" keyword checks if a value exists in a list, but in dictionaries, it checks for keys only.  \n",
        "\n",
        "15. **Can you modify the elements of a tuple? Explain why or why not.**  \n",
        "   No, tuple elements cannot be modified because tuples are immutable.  \n",
        "\n",
        "16. **What is a nested dictionary, and give an example of its use case?**  \n",
        "   A nested dictionary is a dictionary inside another dictionary, useful for storing structured data like student records.  \n",
        "\n",
        "17. **Describe the time complexity of accessing elements in a dictionary.**  \n",
        "   Accessing elements in a dictionary has an average time complexity of **O(1)** due to hashing.  \n",
        "\n",
        "18. **In what situations are lists preferred over dictionaries?**  \n",
        "   Lists are preferred when order matters or when frequent modifications like adding/removing elements are needed.  \n",
        "\n",
        "19. **Why are dictionaries considered unordered, and how does that affect data retrieval?**  \n",
        "   Dictionaries are unordered because they store keys using a hash function, making retrieval order unpredictable.  \n",
        "\n",
        "20. **Explain the difference between a list and a dictionary in terms of data retrieval.**  \n",
        "   Lists store values in order, while dictionaries store data as key-value pairs, allowing fast lookups by key.  "
      ],
      "metadata": {
        "id": "pYh1uomCKk-1"
      }
    },
    {
      "cell_type": "markdown",
      "source": [
        "# Practical Questions"
      ],
      "metadata": {
        "id": "SpUiB5IrLAnn"
      }
    },
    {
      "cell_type": "code",
      "execution_count": 1,
      "metadata": {
        "colab": {
          "base_uri": "https://localhost:8080/"
        },
        "id": "2LTyIO1SIirx",
        "outputId": "c1d44d35-0c90-4102-a995-11a277017ad6"
      },
      "outputs": [
        {
          "output_type": "stream",
          "name": "stdout",
          "text": [
            "YourName\n"
          ]
        }
      ],
      "source": [
        "# 1. Create a string with your name and print it\n",
        "name = \"YourName\"\n",
        "print(name)\n"
      ]
    },
    {
      "cell_type": "code",
      "source": [
        "\n",
        "\n",
        "# 2. Find the length of the string \"Hello World\"\n",
        "text = \"Hello World\"\n",
        "print(len(text))\n",
        "\n"
      ],
      "metadata": {
        "colab": {
          "base_uri": "https://localhost:8080/"
        },
        "id": "OeAZmwf1Lr94",
        "outputId": "71548a97-3256-4c28-b4f2-ed6317f2ceb2"
      },
      "execution_count": 2,
      "outputs": [
        {
          "output_type": "stream",
          "name": "stdout",
          "text": [
            "11\n"
          ]
        }
      ]
    },
    {
      "cell_type": "code",
      "source": [
        "\n",
        "\n",
        "# 3. Slice the first 3 characters from the string \"Python Programming\"\n",
        "string = \"Python Programming\"\n",
        "print(string[:3])\n",
        "\n"
      ],
      "metadata": {
        "colab": {
          "base_uri": "https://localhost:8080/"
        },
        "id": "mlraXYIQLzBb",
        "outputId": "58231e0c-a825-4274-cdf4-ef0593b432f9"
      },
      "execution_count": 3,
      "outputs": [
        {
          "output_type": "stream",
          "name": "stdout",
          "text": [
            "Pyt\n"
          ]
        }
      ]
    },
    {
      "cell_type": "code",
      "source": [
        "\n",
        "\n",
        "# 4. Convert the string \"hello\" to uppercase\n",
        "word = \"hello\"\n",
        "print(word.upper())\n",
        "\n",
        "# 5. Replace \"apple\" with \"orange\" in the string \"I like apple\"\n",
        "sentence = \"I like apple\"\n",
        "print(sentence.replace(\"apple\", \"orange\"))\n",
        "\n",
        "# 6. Create a list with numbers 1 to 5 and print it\n",
        "numbers = [1, 2, 3, 4, 5]\n",
        "print(numbers)\n",
        "\n",
        "# 7. Append the number 10 to the list [1, 2, 3, 4]\n",
        "num_list = [1, 2, 3, 4]\n",
        "num_list.append(10)\n",
        "print(num_list)\n",
        "\n",
        "# 8. Remove the number 3 from the list [1, 2, 3, 4, 5]\n",
        "num_list2 = [1, 2, 3, 4, 5]\n",
        "num_list2.remove(3)\n",
        "print(num_list2)\n",
        "\n",
        "# 9. Access the second element in the list ['a', 'b', 'c', 'd']\n",
        "char_list = ['a', 'b', 'c', 'd']\n",
        "print(char_list[1])\n",
        "\n",
        "# 10. Reverse the list [10, 20, 30, 40, 50]\n",
        "num_list3 = [10, 20, 30, 40, 50]\n",
        "num_list3.reverse()\n",
        "print(num_list3)\n"
      ],
      "metadata": {
        "colab": {
          "base_uri": "https://localhost:8080/"
        },
        "id": "pGkaNAEjL4cn",
        "outputId": "d9f03039-12bb-4787-a48a-863c68529e09"
      },
      "execution_count": 4,
      "outputs": [
        {
          "output_type": "stream",
          "name": "stdout",
          "text": [
            "HELLO\n",
            "I like orange\n",
            "[1, 2, 3, 4, 5]\n",
            "[1, 2, 3, 4, 10]\n",
            "[1, 2, 4, 5]\n",
            "b\n",
            "[50, 40, 30, 20, 10]\n"
          ]
        }
      ]
    },
    {
      "cell_type": "code",
      "source": [
        "# 11. Create a tuple with the elements 100, 200, 300 and print it\n",
        "tuple1 = (100, 200, 300)\n",
        "print(tuple1)\n",
        "\n",
        "# 12. Access the second-to-last element of the tuple ('red', 'green', 'blue', 'yellow')\n",
        "colors = ('red', 'green', 'blue', 'yellow')\n",
        "print(colors[-2])\n",
        "\n",
        "# 13. Find the minimum number in the tuple (10, 20, 5, 15)\n",
        "numbers_tuple = (10, 20, 5, 15)\n",
        "print(min(numbers_tuple))\n",
        "\n",
        "# 14. Find the index of the element \"cat\" in the tuple ('dog', 'cat', 'rabbit')\n",
        "animals = ('dog', 'cat', 'rabbit')\n",
        "print(animals.index(\"cat\"))\n",
        "\n",
        "# 15. Create a tuple containing three different fruits and check if \"kiwi\" is in it\n",
        "fruits = (\"apple\", \"banana\", \"cherry\")\n",
        "print(\"kiwi\" in fruits)\n",
        "\n",
        "# 16. Create a set with the elements 'a', 'b', 'c' and print it\n",
        "letters = {'a', 'b', 'c'}\n",
        "print(letters)\n",
        "\n",
        "# 17. Clear all elements from the set {1, 2, 3, 4, 5}\n",
        "numbers_set = {1, 2, 3, 4, 5}\n",
        "numbers_set.clear()\n",
        "print(numbers_set)\n",
        "\n",
        "# 18. Remove the element 4 from the set {1, 2, 3, 4}\n",
        "numbers_set2 = {1, 2, 3, 4}\n",
        "numbers_set2.remove(4)\n",
        "print(numbers_set2)\n",
        "\n",
        "# 19. Find the union of two sets {1, 2, 3} and {3, 4, 5}\n",
        "set1 = {1, 2, 3}\n",
        "set2 = {3, 4, 5}\n",
        "print(set1.union(set2))\n",
        "\n",
        "# 20. Find the intersection of two sets {1, 2, 3} and {2, 3, 4}\n",
        "set3 = {1, 2, 3}\n",
        "set4 = {2, 3, 4}\n",
        "print(set3.intersection(set4))"
      ],
      "metadata": {
        "colab": {
          "base_uri": "https://localhost:8080/"
        },
        "id": "ImXWCjh7L7-Z",
        "outputId": "bacbceb0-29ac-4dd9-ee00-082bbb64253b"
      },
      "execution_count": 5,
      "outputs": [
        {
          "output_type": "stream",
          "name": "stdout",
          "text": [
            "(100, 200, 300)\n",
            "blue\n",
            "5\n",
            "1\n",
            "False\n",
            "{'a', 'c', 'b'}\n",
            "set()\n",
            "{1, 2, 3}\n",
            "{1, 2, 3, 4, 5}\n",
            "{2, 3}\n"
          ]
        }
      ]
    },
    {
      "cell_type": "code",
      "source": [
        "# 21. Create a dictionary with the keys \"name\", \"age\", and \"city\", and print it\n",
        "details = {\"name\": \"John\", \"age\": 30, \"city\": \"New York\"}\n",
        "print(details)\n",
        "\n",
        "\n",
        "\n",
        "# 22. Add a new key-value pair \"country\": \"USA\" to the dictionary {'name': 'John', 'age': 25}\n",
        "person = {'name': 'John', 'age': 25}\n",
        "person[\"country\"] = \"USA\"\n",
        "print(person)\n",
        "\n",
        "\n",
        "\n",
        "# 23. Access the value associated with the key \"name\" in the dictionary {'name': 'Alice', 'age': 30}\n",
        "details2 = {'name': 'Alice', 'age': 30}\n",
        "print(details2[\"name\"])\n",
        "\n",
        "\n",
        "\n",
        "# 24. Remove the key \"age\" from the dictionary {'name': 'Bob', 'age': 22, 'city': 'New York'}\n",
        "details3 = {'name': 'Bob', 'age': 22, 'city': 'New York'}\n",
        "del details3[\"age\"]\n",
        "print(details3)\n",
        "\n",
        "\n",
        "\n",
        "# 25. Check if the key \"city\" exists in the dictionary {'name': 'Alice', 'city': 'Paris'}\n",
        "details4 = {'name': 'Alice', 'city': 'Paris'}\n",
        "print(\"city\" in details4)\n",
        "\n",
        "# 26. Create a list, a tuple, and a dictionary, and print them all\n",
        "my_list = [1, 2, 3]\n",
        "my_tuple = (4, 5, 6)\n",
        "my_dict = {\"a\": 7, \"b\": 8}\n",
        "print(my_list, my_tuple, my_dict)\n",
        "\n",
        "\n",
        "\n",
        "# 27. Create a list of 5 random numbers between 1 and 100, sort it in ascending order, and print the result\n",
        "import random\n",
        "random_numbers = random.sample(range(1, 101), 5)\n",
        "random_numbers.sort()\n",
        "print(random_numbers)\n",
        "\n",
        "\n",
        "\n",
        "# 28. Create a list with strings and print the element at the third index\n",
        "string_list = [\"apple\", \"banana\", \"cherry\", \"date\", \"elderberry\"]\n",
        "print(string_list[3])\n",
        "\n",
        "\n",
        "\n",
        "# 29. Combine two dictionaries into one and print the result\n",
        "dict1 = {\"a\": 1, \"b\": 2}\n",
        "dict2 = {\"c\": 3, \"d\": 4}\n",
        "dict1.update(dict2)\n",
        "print(dict1)\n",
        "\n",
        "\n",
        "# 30. Convert a list of strings into a set\n",
        "string_list2 = [\"apple\", \"banana\", \"cherry\", \"apple\"]\n",
        "string_set = set(string_list2)\n",
        "print(string_set)"
      ],
      "metadata": {
        "colab": {
          "base_uri": "https://localhost:8080/"
        },
        "id": "I6VsoCOyMZ84",
        "outputId": "d75cf0fd-8d28-476f-e1d4-124c72456674"
      },
      "execution_count": 6,
      "outputs": [
        {
          "output_type": "stream",
          "name": "stdout",
          "text": [
            "{'name': 'John', 'age': 30, 'city': 'New York'}\n",
            "{'name': 'John', 'age': 25, 'country': 'USA'}\n",
            "Alice\n",
            "{'name': 'Bob', 'city': 'New York'}\n",
            "True\n",
            "[1, 2, 3] (4, 5, 6) {'a': 7, 'b': 8}\n",
            "[44, 53, 60, 76, 81]\n",
            "date\n",
            "{'a': 1, 'b': 2, 'c': 3, 'd': 4}\n",
            "{'apple', 'banana', 'cherry'}\n"
          ]
        }
      ]
    },
    {
      "cell_type": "code",
      "source": [],
      "metadata": {
        "id": "XaKo9Kz9Mkre"
      },
      "execution_count": null,
      "outputs": []
    }
  ]
}